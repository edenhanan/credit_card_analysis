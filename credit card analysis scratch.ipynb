{
 "cells": [
  {
   "cell_type": "code",
   "execution_count": 9,
   "metadata": {},
   "outputs": [],
   "source": [
    "import pandas as pd\n",
    "from tkinter import Tk\n",
    "from tkinter.filedialog import askopenfilename\n",
    "import os\n",
    "\n",
    "def clean_data(df):\n",
    "    df.columns = df.iloc[2]\n",
    "    df = df[3:]\n",
    "    df = df[:-3]\n",
    "    return df\n",
    "\n",
    "def generate_days_series(month, year):\n",
    "    start_date = f'{year}-{month}-10'\n",
    "    if month == 12:\n",
    "        end_date = f'{year+1}-01-09'\n",
    "    else:\n",
    "        end_date = f'{year}-{month+1}-09'\n",
    "    dates = pd.date_range(start=start_date, end=end_date)\n",
    "    return dates\n",
    "\n",
    "def clean_concat_dataframes(dataframes: dict):\n",
    "    for key in dataframes.keys():\n",
    "        dataframes[key] = clean_data(dataframes[key])\n",
    "    return pd.concat(dataframes, ignore_index=True)\n",
    "\n",
    "def open_excel_file_path():\n",
    "    root = Tk()\n",
    "    root.attributes('-topmost', True)\n",
    "    root.withdraw()\n",
    "    filename = askopenfilename(filetypes=[(\"Excel files\", \"*.xlsx\")], initialdir=os.getcwd(), title=\"Select Excel File\")\n",
    "    return filename\n",
    "\n",
    "def getcredit_card_data():\n",
    "    filename = open_excel_file_path()\n",
    "    dataframes = pd.read_excel(filename, sheet_name=None)\n",
    "    df = clean_concat_dataframes(dataframes)\n",
    "    df = add_month_column(df)\n",
    "    return df\n",
    "\n",
    "def add_month_column(df):\n",
    "    \n",
    "    df['תאריך עסקה'] = pd.to_datetime(df['תאריך עסקה'], format='%d-%m-%Y')\n",
    "    df['תאריך חיוב'] = pd.to_datetime(df['תאריך חיוב'], format='%d-%m-%Y')\n",
    "    df['סכום חיוב'] = df['סכום חיוב'].astype(float)\n",
    "    \n",
    "    df['month'] = pd.to_datetime(df['תאריך חיוב']).dt.to_period('M') - 1\n",
    "    # df['month'] = df['תאריך חיוב']\n",
    "    return df\n",
    "\n",
    "def calculate_monthly_expenses(df):\n",
    "    # change the month column to a period\n",
    "    df['month'] = pd.to_datetime(df['תאריך חיוב']).apply(lambda dt: dt.replace(day=10))\n",
    "    unique_dates = df['month'].unique()\n",
    "    months = []\n",
    "    years = []\n",
    "\n",
    "    for date in unique_dates:\n",
    "        month = date.month\n",
    "        year = date.year\n",
    "        dates = generate_days_series(month, year)\n",
    "        df_period = df[df['month'] == date]\n",
    "        month_list = df_period['month'].tolist()\n",
    "        month_list = month_list[0:len(dates)]\n",
    "        print(f'{month}-{year}')\n",
    "        cumulative_sum = [round(df_period[df_period['תאריך עסקה'] <= i]['סכום חיוב'].sum(), 2) for i in dates]\n",
    "        cumulative_df = pd.DataFrame({'date': dates, 'cumulative_sum': cumulative_sum, 'month': month_list})\n",
    "        # cumulative_sum = { str(i.date()): }\n",
    "    return cumulative_df\n",
    "\n",
    "def plot_monthly_expenses(cumulative_sum):\n",
    "    pass"
   ]
  },
  {
   "cell_type": "code",
   "execution_count": 12,
   "metadata": {},
   "outputs": [
    {
     "name": "stdout",
     "output_type": "stream",
     "text": [
      "2-2024\n"
     ]
    },
    {
     "data": {
      "text/plain": [
       "Timestamp('2024-02-10 00:00:00')"
      ]
     },
     "execution_count": 12,
     "metadata": {},
     "output_type": "execute_result"
    }
   ],
   "source": [
    "import sqlite3\n",
    "df = getcredit_card_data()\n",
    "df['month'] = str(df['month'])\n",
    "cumulative_sum = calculate_monthly_expenses(df)\n",
    "\n",
    "conn = sqlite3.connect('credit_card.db')\n",
    "\n",
    "df.to_sql('credit_card', conn, if_exists='append', index=False)\n",
    "df['month'].iloc[0] "
   ]
  },
  {
   "cell_type": "code",
   "execution_count": 11,
   "metadata": {},
   "outputs": [
    {
     "ename": "TypeError",
     "evalue": "'numpy.ndarray' object is not callable",
     "output_type": "error",
     "traceback": [
      "\u001b[1;31m---------------------------------------------------------------------------\u001b[0m",
      "\u001b[1;31mTypeError\u001b[0m                                 Traceback (most recent call last)",
      "Cell \u001b[1;32mIn[11], line 3\u001b[0m\n\u001b[0;32m      1\u001b[0m \u001b[38;5;28;01mimport\u001b[39;00m \u001b[38;5;21;01mplotly\u001b[39;00m\u001b[38;5;21;01m.\u001b[39;00m\u001b[38;5;21;01mgraph_objects\u001b[39;00m \u001b[38;5;28;01mas\u001b[39;00m \u001b[38;5;21;01mgo\u001b[39;00m\n\u001b[1;32m----> 3\u001b[0m fig \u001b[38;5;241m=\u001b[39m go\u001b[38;5;241m.\u001b[39mFigure(data\u001b[38;5;241m=\u001b[39mgo\u001b[38;5;241m.\u001b[39mScatter(x\u001b[38;5;241m=\u001b[39m\u001b[38;5;28mlist\u001b[39m(cumulative_sum\u001b[38;5;241m.\u001b[39mkeys()), y\u001b[38;5;241m=\u001b[39m\u001b[38;5;28mlist\u001b[39m(\u001b[43mcumulative_sum\u001b[49m\u001b[38;5;241;43m.\u001b[39;49m\u001b[43mvalues\u001b[49m\u001b[43m(\u001b[49m\u001b[43m)\u001b[49m)))\n\u001b[0;32m      4\u001b[0m fig\u001b[38;5;241m.\u001b[39mupdate_layout(\n\u001b[0;32m      5\u001b[0m     xaxis\u001b[38;5;241m=\u001b[39m\u001b[38;5;28mdict\u001b[39m(title\u001b[38;5;241m=\u001b[39m\u001b[38;5;124m'\u001b[39m\u001b[38;5;124mDate\u001b[39m\u001b[38;5;124m'\u001b[39m),\n\u001b[0;32m      6\u001b[0m     yaxis\u001b[38;5;241m=\u001b[39m\u001b[38;5;28mdict\u001b[39m(title\u001b[38;5;241m=\u001b[39m\u001b[38;5;124m'\u001b[39m\u001b[38;5;124mCumulative Sum\u001b[39m\u001b[38;5;124m'\u001b[39m),\n\u001b[0;32m      7\u001b[0m     title\u001b[38;5;241m=\u001b[39m\u001b[38;5;124m'\u001b[39m\u001b[38;5;124mCumulative Sum Plot\u001b[39m\u001b[38;5;124m'\u001b[39m,\n\u001b[0;32m      8\u001b[0m     xaxis_tickangle\u001b[38;5;241m=\u001b[39m\u001b[38;5;241m-\u001b[39m\u001b[38;5;241m45\u001b[39m\n\u001b[0;32m      9\u001b[0m )\n\u001b[0;32m     10\u001b[0m fig\u001b[38;5;241m.\u001b[39mshow()\n",
      "\u001b[1;31mTypeError\u001b[0m: 'numpy.ndarray' object is not callable"
     ]
    }
   ],
   "source": [
    "import plotly.graph_objects as go\n",
    "\n",
    "fig = go.Figure(data=go.Scatter(x=list(cumulative_sum.keys()), y=list(cumulative_sum.values())))\n",
    "fig.update_layout(\n",
    "    xaxis=dict(title='Date'),\n",
    "    yaxis=dict(title='Cumulative Sum'),\n",
    "    title='Cumulative Sum Plot',\n",
    "    xaxis_tickangle=-45\n",
    ")\n",
    "fig.show()\n",
    "\n",
    "# import matplotlib.pyplot as plt\n",
    "\n",
    "# plt.plot(list(cumulative_sum.keys()), list(cumulative_sum.values()))\n",
    "# plt.xlabel('Date')\n",
    "# plt.ylabel('Cumulative Sum')\n",
    "# plt.title('Cumulative Sum Plot')\n",
    "# plt.xticks(rotation=45)  # Rotate the x-axis labels by 45 degrees\n",
    "# plt.show()\n",
    "\n"
   ]
  },
  {
   "cell_type": "code",
   "execution_count": null,
   "metadata": {},
   "outputs": [],
   "source": [
    "import json\n",
    "\n",
    "file_path = 'cumulative_sum.json'\n",
    "with open(file_path, 'w') as file:\n",
    "    json.dump(cumulative_sum, file)\n",
    "with open('cumulative_sum.json') as f:\n",
    "        data = json.load(f)"
   ]
  },
  {
   "cell_type": "code",
   "execution_count": null,
   "metadata": {},
   "outputs": [],
   "source": [
    "df = pd.read_excel('transaction-details_export_feb.xlsx', sheet_name=None)\n",
    "df = clean_concat_dataframes(df)"
   ]
  }
 ],
 "metadata": {
  "kernelspec": {
   "display_name": "Python 3",
   "language": "python",
   "name": "python3"
  },
  "language_info": {
   "codemirror_mode": {
    "name": "ipython",
    "version": 3
   },
   "file_extension": ".py",
   "mimetype": "text/x-python",
   "name": "python",
   "nbconvert_exporter": "python",
   "pygments_lexer": "ipython3",
   "version": "3.11.5"
  }
 },
 "nbformat": 4,
 "nbformat_minor": 2
}
